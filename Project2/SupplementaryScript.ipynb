{
 "cells": [
  {
   "attachments": {},
   "cell_type": "markdown",
   "metadata": {},
   "source": [
    "# Supplementary Scripts \n",
    "This folder containse the code used to generate figures in the pdf workshop notes but not inlcuded in the main workshop notebook inroder to keep it precise.\n"
   ]
  },
  {
   "cell_type": "code",
   "execution_count": null,
   "metadata": {},
   "outputs": [],
   "source": [
    "# Some important libraries to use in time sereies analysis\n",
    "from statsmodels.graphics.tsaplots import plot_acf\n",
    "from statsmodels.tsa.arima_process import ArmaProcess\n",
    "from statsmodels.tsa.arima.model import ARIMA\n",
    "import statsmodels as statsmodels\n",
    "from statsmodels.tsa.stattools import adfuller\n",
    "import matplotlib.pyplot as plt\n",
    "import numpy as np\n",
    "from pandasdmx import Request\n",
    "import pandas as pd\n",
    "import os\n",
    "\n",
    "# Setting fixed figure size\n",
    "plt.rcParams['figure.figsize'] = [10, 7.5]\n",
    "plt.rcParams.update({'font.size': 18})"
   ]
  },
  {
   "attachments": {},
   "cell_type": "markdown",
   "metadata": {},
   "source": [
    "### Lake Huron Linear Regression"
   ]
  },
  {
   "cell_type": "code",
   "execution_count": null,
   "metadata": {},
   "outputs": [],
   "source": [
    "# Obtaining path to data and getting the data\n",
    "filepath = os.getcwd()\n",
    "datapath = filepath +\"/Data/lakedata.xlsx\"\n",
    "figurepath = filepath+\"/Figures\"\n",
    "df = pd.read_excel(datapath)\n",
    "\n",
    "#plotting data as numpy arrays\n",
    "data = df.iloc[:,0].to_numpy()\n",
    "dataTime = np.arange(0,data.shape[0])\n",
    "plt.figure()\n",
    "plt.plot(dataTime, data,\"k\", marker='s', markerfacecolor='none')\n",
    "plt.xlabel(\"Time Stamps $(t)$\")\n",
    "plt.ylabel(\"Water level in feets\")\n",
    "\n",
    "#save figure\n",
    "plt.savefig(figurepath+\"/lakedata.pdf\", format=\"pdf\", bbox_inches=\"tight\")\n",
    "plt.show()"
   ]
  },
  {
   "attachments": {},
   "cell_type": "markdown",
   "metadata": {},
   "source": [
    "Linear regression with Lake Huron Data for $0\\leq t \\leq 96$"
   ]
  },
  {
   "cell_type": "code",
   "execution_count": 1,
   "metadata": {},
   "outputs": [
    {
     "ename": "NameError",
     "evalue": "name 'np' is not defined",
     "output_type": "error",
     "traceback": [
      "\u001b[1;31m---------------------------------------------------------------------------\u001b[0m",
      "\u001b[1;31mNameError\u001b[0m                                 Traceback (most recent call last)",
      "\u001b[1;32mc:\\Users\\yassy\\OneDrive\\Desktop\\GitRepos\\Deeplearning-Workshops-FYP\\Project2\\SupplementaryScript.ipynb Cell 6\u001b[0m in \u001b[0;36m<cell line: 1>\u001b[1;34m()\u001b[0m\n\u001b[1;32m----> <a href='vscode-notebook-cell:/c%3A/Users/yassy/OneDrive/Desktop/GitRepos/Deeplearning-Workshops-FYP/Project2/SupplementaryScript.ipynb#X13sZmlsZQ%3D%3D?line=0'>1</a>\u001b[0m V \u001b[39m=\u001b[39m np\u001b[39m.\u001b[39mstack([np\u001b[39m.\u001b[39mones(dataTime\u001b[39m.\u001b[39mshape)\u001b[39m.\u001b[39mT, dataTime\u001b[39m.\u001b[39mT, (dataTime\u001b[39m.\u001b[39mT)\u001b[39m*\u001b[39m\u001b[39m*\u001b[39m\u001b[39m2\u001b[39m], axis \u001b[39m=\u001b[39m\u001b[39m0\u001b[39m)\u001b[39m.\u001b[39mT\n\u001b[0;32m      <a href='vscode-notebook-cell:/c%3A/Users/yassy/OneDrive/Desktop/GitRepos/Deeplearning-Workshops-FYP/Project2/SupplementaryScript.ipynb#X13sZmlsZQ%3D%3D?line=1'>2</a>\u001b[0m VFit \u001b[39m=\u001b[39m V[\u001b[39m0\u001b[39m:\u001b[39m-\u001b[39m\u001b[39m10\u001b[39m,:]\n\u001b[0;32m      <a href='vscode-notebook-cell:/c%3A/Users/yassy/OneDrive/Desktop/GitRepos/Deeplearning-Workshops-FYP/Project2/SupplementaryScript.ipynb#X13sZmlsZQ%3D%3D?line=2'>3</a>\u001b[0m dataFit \u001b[39m=\u001b[39m data[\u001b[39m0\u001b[39m:\u001b[39m-\u001b[39m\u001b[39m10\u001b[39m]\n",
      "\u001b[1;31mNameError\u001b[0m: name 'np' is not defined"
     ]
    }
   ],
   "source": [
    "V = np.stack([np.ones(dataTime.shape).T, dataTime.T, (dataTime.T)**2], axis =0).T\n",
    "VFit = V[0:-10,:]\n",
    "dataFit = data[0:-10]\n",
    "a = np.linalg.pinv(VFit.T@VFit)@VFit.T@dataFit.T\n",
    "a\n"
   ]
  },
  {
   "attachments": {},
   "cell_type": "markdown",
   "metadata": {},
   "source": [
    "Plot the polynomial fit and prediction step."
   ]
  },
  {
   "cell_type": "code",
   "execution_count": null,
   "metadata": {},
   "outputs": [],
   "source": [
    "#plotting data as numpy arrays\n",
    "xPreds = a @ V.T\n",
    "MSE_Quad =((data - xPreds)**2).mean()\n",
    "plt.figure()\n",
    "plt.plot(dataTime, data,  \"k\", marker='s', markerfacecolor='none')\n",
    "plt.plot(dataTime, xPreds, 'g-.')\n",
    "plt.xlabel(\"Time stamps $(t)$\")\n",
    "plt.ylabel(\"Water level in feets\")\n",
    "plt.legend([\"Lake Huron Data\", \"Quadratic Fit\"])\n",
    "plt.text(0, 6, \"MSE: {:.2f}\".format(MSE_Quad))\n",
    "#save figure\n",
    "plt.savefig(figurepath+\"/lakefit.pdf\", format=\"pdf\", bbox_inches=\"tight\")\n",
    "plt.show()"
   ]
  },
  {
   "cell_type": "code",
   "execution_count": null,
   "metadata": {},
   "outputs": [],
   "source": [
    "#predicting water level in 1972\n",
    "m97 = a@[[1],[97],[97**2]]\n",
    "print(\"prediction:\",m97[0], \" \\nactual value:\" ,data[-1])\n",
    "\n",
    "# Error\n",
    "error =  np.abs(m97 - data[-1])\n",
    "print(\"error\",error[0])"
   ]
  },
  {
   "attachments": {},
   "cell_type": "markdown",
   "metadata": {},
   "source": [
    "Residual Plot"
   ]
  },
  {
   "cell_type": "code",
   "execution_count": null,
   "metadata": {},
   "outputs": [],
   "source": [
    "resds = data- xPreds\n",
    "plt.figure()\n",
    "plt.plot(dataTime, resds,  \"k\", marker='s', markerfacecolor='none')\n",
    "plt.plot(dataTime, np.zeros(dataTime.shape), \"k\")\n",
    "plt.xlabel(\"Time stamps $(t)$\")\n",
    "plt.ylabel(\"Residuals\")\n",
    "plt.xlim([dataTime[0]-0.5, dataTime[-1]+0.5])\n",
    "#save figure\n",
    "plt.savefig(figurepath+\"/lakefitres.pdf\", format=\"pdf\", bbox_inches=\"tight\")\n",
    "plt.show()"
   ]
  },
  {
   "attachments": {},
   "cell_type": "markdown",
   "metadata": {},
   "source": [
    "Lets calculate the autocorrelation of the residuals. WE can see that the residuals are not IID"
   ]
  },
  {
   "cell_type": "code",
   "execution_count": null,
   "metadata": {},
   "outputs": [],
   "source": [
    "plot_acf(resds, lags =20)\n",
    "plt.xlabel(\"lags $(h)$\")\n",
    "plt.ylabel(\"MA(2) Autocorrleation\")\n",
    "plt.show()"
   ]
  }
 ],
 "metadata": {
  "kernelspec": {
   "display_name": "Python 3",
   "language": "python",
   "name": "python3"
  },
  "language_info": {
   "codemirror_mode": {
    "name": "ipython",
    "version": 3
   },
   "file_extension": ".py",
   "mimetype": "text/x-python",
   "name": "python",
   "nbconvert_exporter": "python",
   "pygments_lexer": "ipython3",
   "version": "3.10.4"
  },
  "orig_nbformat": 4
 },
 "nbformat": 4,
 "nbformat_minor": 2
}
